{
  "nbformat": 4,
  "nbformat_minor": 0,
  "metadata": {
    "colab": {
      "provenance": []
    },
    "kernelspec": {
      "name": "python3",
      "display_name": "Python 3"
    }
  },
  "cells": [
    {
      "cell_type": "markdown",
      "metadata": {
        "id": "vWmc_s2ezvU0"
      },
      "source": [
        "# Correr streamlit app desde Google Colab Notebook"
      ]
    },
    {
      "cell_type": "code",
      "metadata": {
        "id": "RvlYkCQ9vFiy"
      },
      "source": [
        "!pip install -q streamlit"
      ],
      "execution_count": 102,
      "outputs": []
    },
    {
      "cell_type": "markdown",
      "metadata": {
        "id": "waCfwniZOow8"
      },
      "source": [
        "# Proyecto Final: Recordatorio y Envío de Felicitaciones de Cumpleaños\n"
      ]
    },
    {
      "cell_type": "markdown",
      "source": [
        "El proyecto esta hecho en python con la idea de realizar el front en streamlit, viene explicada cada parte del codigo para un mayor entendimiento del codigo."
      ],
      "metadata": {
        "id": "VJOqjtlxk0t8"
      }
    },
    {
      "cell_type": "code",
      "source": [
        "%%writefile app.py\n",
        "import streamlit as st\n",
        "from datetime import datetime, timedelta\n",
        "import pickle\n",
        "import os\n",
        "import smtplib\n",
        "from email.mime.multipart import MIMEMultipart\n",
        "from email.mime.text import MIMEText\n",
        "\n",
        "# Clase para manejar los cumpleaños\n",
        "class BirthdayManager:\n",
        "    def __init__(self, storage_file=\"birthdays.pkl\"):\n",
        "        self.storage_file = storage_file\n",
        "        self.birthday_data = self.load_birthdays()\n",
        "\n",
        "    def load_birthdays(self):\n",
        "        # Intentamos cargar los datos desde un archivo pickle\n",
        "        if os.path.exists(self.storage_file):\n",
        "            with open(self.storage_file, \"rb\") as file:\n",
        "                birthday_data = pickle.load(file)\n",
        "                # Aseguramos que cada entrada tenga la clave 'message' y 'felicitacion_enviada'\n",
        "                for data in birthday_data:\n",
        "                    if 'message' not in data:\n",
        "                        data['message'] = \"¡Feliz Cumpleaños! Que tengas un día maravilloso.\"\n",
        "                    if 'felicitacion_enviada' not in data:\n",
        "                        data['felicitacion_enviada'] = False  # Inicializamos como False\n",
        "                return birthday_data\n",
        "        else:\n",
        "            return []\n",
        "\n",
        "    def save_birthdays(self):\n",
        "        # Guardamos los datos en el archivo pickle\n",
        "        with open(self.storage_file, \"wb\") as file:\n",
        "            pickle.dump(self.birthday_data, file)\n",
        "\n",
        "    def add_birthday(self, name, email, month, day, message):\n",
        "        # Asegurarnos de que todos los campos estén presentes\n",
        "        if not message or message.strip() == \"\":\n",
        "            message = \"¡Feliz Cumpleaños! Que tengas un día maravilloso.\"\n",
        "\n",
        "        # Agregar un nuevo cumpleaños a la lista (sin considerar el año)\n",
        "        self.birthday_data.append({\n",
        "            \"name\": name,\n",
        "            \"email\": email,\n",
        "            \"month\": month,\n",
        "            \"day\": day,\n",
        "            \"message\": message,  # Guardamos el mensaje\n",
        "            \"felicitacion_enviada\": False  # Inicializamos como False\n",
        "        })\n",
        "        self.save_birthdays()\n",
        "\n",
        "        # Verificar si el cumpleaños es hoy y enviar la felicitación si es así\n",
        "        today = datetime.today().date()\n",
        "        next_birthday = datetime(today.year, month, day).date()\n",
        "        if today == next_birthday:\n",
        "            self.send_birthday_email(email, message)\n",
        "            # Marcamos que la felicitación ya fue enviada\n",
        "            self.birthday_data[-1][\"felicitacion_enviada\"] = True\n",
        "            self.save_birthdays()\n",
        "\n",
        "    def get_upcoming_birthdays(self):\n",
        "        # Calculamos cuántos días faltan para el próximo cumpleaños\n",
        "        upcoming = []\n",
        "        today = datetime.today().date()\n",
        "        for data in self.birthday_data:\n",
        "            # Creamos una fecha solo con el mes y día, el año será el actual\n",
        "            next_birthday = datetime(today.year, data[\"month\"], data[\"day\"]).date()\n",
        "\n",
        "            # Si el cumpleaños ya pasó este año, lo ajustamos al siguiente\n",
        "            if next_birthday < today:\n",
        "                next_birthday = next_birthday.replace(year=today.year + 1)\n",
        "\n",
        "            days_left = (next_birthday - today).days\n",
        "            upcoming.append({\n",
        "                \"name\": data[\"name\"],\n",
        "                \"email\": data[\"email\"],\n",
        "                \"days_left\": days_left,\n",
        "                \"next_birthday\": next_birthday,\n",
        "                \"message\": data[\"message\"],\n",
        "                \"felicitacion_enviada\": data[\"felicitacion_enviada\"]\n",
        "            })\n",
        "\n",
        "        # Ordenamos por los próximos cumpleaños\n",
        "        upcoming.sort(key=lambda x: x[\"days_left\"])\n",
        "        return upcoming\n",
        "\n",
        "    def send_birthday_email(self, recipient_email, message, subject=\"¡Feliz Cumpleaños!\"):\n",
        "        # Función para enviar correo electrónico\n",
        "        usuario = \"poo.proyecto.220661135@gmail.com\"  # Cambia esto por tu correo real\n",
        "        contraseña = \"nffg bwjg hhmq pdwt\"  # Cambia esto por tu contraseña real (si usas contraseñas de aplicación)\n",
        "        servidor_smtp = \"smtp.gmail.com\"\n",
        "        puerto_smtp = 587  # Usamos 587 para TLS\n",
        "\n",
        "        try:\n",
        "            # Crear el mensaje\n",
        "            msg = MIMEMultipart()\n",
        "            msg[\"From\"] = usuario\n",
        "            msg[\"To\"] = recipient_email\n",
        "            msg[\"Subject\"] = subject\n",
        "\n",
        "            # Codificar el mensaje\n",
        "            msg.attach(MIMEText(message, \"plain\", _charset=\"utf-8\"))\n",
        "\n",
        "            # Establecer conexión con el servidor SMTP\n",
        "            with smtplib.SMTP(servidor_smtp, puerto_smtp) as server:\n",
        "                server.starttls()  # Usar TLS para asegurar la conexión\n",
        "                server.login(usuario, contraseña)  # Iniciar sesión en el servidor\n",
        "                server.sendmail(usuario, recipient_email, msg.as_string())  # Enviar el mensaje\n",
        "\n",
        "            print(f\"Correo de felicitación enviado a {recipient_email}\")\n",
        "\n",
        "        except Exception as e:\n",
        "            print(f\"Error al enviar el correo: {e}\")\n",
        "\n",
        "    def check_and_send_birthday_greetings(self):\n",
        "        # Verifica si hoy es el cumpleaños de alguien y envía el mensaje solo si no se ha enviado antes\n",
        "        today = datetime.today().date()\n",
        "        for data in self.birthday_data:\n",
        "            next_birthday = datetime(today.year, data[\"month\"], data[\"day\"]).date()\n",
        "\n",
        "            if today == next_birthday and not data[\"felicitacion_enviada\"]:\n",
        "                # Verificamos si la clave 'message' existe antes de acceder a ella\n",
        "                message = data.get(\"message\", \"¡Feliz Cumpleaños! Que tengas un día maravilloso.\")\n",
        "                self.send_birthday_email(data[\"email\"], message)\n",
        "                # Marcamos que la felicitación ya fue enviada\n",
        "                data[\"felicitacion_enviada\"] = True\n",
        "                self.save_birthdays()\n",
        "\n",
        "    def remove_birthday(self, email):\n",
        "        # Eliminar un cumpleaños basado en el correo electrónico\n",
        "        self.birthday_data = [data for data in self.birthday_data if data[\"email\"] != email]\n",
        "        self.save_birthdays()\n",
        "\n",
        "# Funciones de Streamlit\n",
        "def app():\n",
        "    st.title(\"Recordatorios de cumpleaños.\")\n",
        "    st.write(\"Proyecto Final: Recordatorio y Envío de Felicitaciones de Cumpleaños realizado por Jared Méndez García\")\n",
        "\n",
        "    # Crear instancia de BirthdayManager\n",
        "    manager = BirthdayManager()\n",
        "\n",
        "    # Verificar y enviar felicitaciones si es el cumpleaños hoy\n",
        "    manager.check_and_send_birthday_greetings()\n",
        "\n",
        "    # Opción para registrar cumpleaños\n",
        "    st.header(\"Registrar Cumpleaños\")\n",
        "    name = st.text_input(\"Nombre:\")\n",
        "    email = st.text_input(\"Correo Electrónico:\")\n",
        "    month = st.number_input(\"Mes de Nacimiento:\", min_value=1, max_value=12, step=1)\n",
        "    day = st.number_input(\"Día de Nacimiento:\", min_value=1, max_value=31, step=1)\n",
        "\n",
        "    # Lista de mensajes predefinidos\n",
        "    default_messages = [\n",
        "        \"¡Feliz Cumpleaños! Que tengas un día maravilloso.\",\n",
        "        \"¡Muchas felicidades! Espero que pases un excelente día.\",\n",
        "        \"¡Felicidades en tu día! Que este nuevo año de vida esté lleno de bendiciones.\"\n",
        "    ]\n",
        "\n",
        "    # Opción para elegir mensaje predefinido o escribir uno personalizado\n",
        "    message_choice = st.radio(\"Elige un mensaje:\", [\"Mensaje Personalizado\", \"Mensaje Predeterminado\"])\n",
        "\n",
        "    if message_choice == \"Mensaje Predeterminado\":\n",
        "        birthday_message = st.selectbox(\"Selecciona un mensaje:\", default_messages)\n",
        "    else:\n",
        "        birthday_message = st.text_area(\"Escribe tu mensaje personalizado:\")\n",
        "\n",
        "    if st.button(\"Registrar Cumpleaños\"):\n",
        "        if name and email and month and day:\n",
        "            manager.add_birthday(name, email, month, day, birthday_message)\n",
        "            st.success(f\"Cumpleaños de {name} registrado correctamente.\")\n",
        "        else:\n",
        "            st.error(\"Por favor, ingresa todos los campos.\")\n",
        "\n",
        "    # Mostrar los cumpleaños próximos\n",
        "    st.header(\"Cumpleaños Próximos\")\n",
        "    upcoming_birthdays = manager.get_upcoming_birthdays()\n",
        "    if upcoming_birthdays:\n",
        "        for birthday in upcoming_birthdays:\n",
        "            st.write(f\"**{birthday['name']}** - {birthday['next_birthday']} - Faltan {birthday['days_left']} días\")\n",
        "            st.write(f\"Mensaje a enviar: {birthday['message']}\")\n",
        "            st.write(f\"Correo: {birthday['email']}\")\n",
        "            # Opción para eliminar un cumpleaños\n",
        "            if st.button(f\"Eliminar {birthday['name']}\"):\n",
        "                manager.remove_birthday(birthday['email'])\n",
        "                st.success(f\"Cumpleaños de {birthday['name']} eliminado correctamente.\")\n",
        "    else:\n",
        "        st.write(\"No hay cumpleaños registrados.\")\n",
        "\n",
        "if __name__ == \"__main__\":\n",
        "    app()\n"
      ],
      "metadata": {
        "id": "meJ36PefNftd",
        "outputId": "3ea2bb34-8d92-450f-ac86-7870ac89dafc",
        "colab": {
          "base_uri": "https://localhost:8080/"
        }
      },
      "execution_count": 98,
      "outputs": [
        {
          "output_type": "stream",
          "name": "stdout",
          "text": [
            "Overwriting app.py\n"
          ]
        }
      ]
    },
    {
      "cell_type": "markdown",
      "metadata": {
        "id": "xZlEJkmSOoxC"
      },
      "source": [
        "# Instalar tunel local"
      ]
    },
    {
      "cell_type": "code",
      "metadata": {
        "colab": {
          "base_uri": "https://localhost:8080/"
        },
        "outputId": "10d7afb8-f72b-4d72-b68e-a93a4d655e43",
        "id": "ZAyqQCQVOoxC"
      },
      "source": [
        "!npm install localtunnel"
      ],
      "execution_count": 99,
      "outputs": [
        {
          "output_type": "stream",
          "name": "stdout",
          "text": [
            "\u001b[1G\u001b[0K⠙\u001b[1G\u001b[0K⠹\u001b[1G\u001b[0K⠸\u001b[1G\u001b[0K⠼\u001b[1G\u001b[0K⠴\u001b[1G\u001b[0K⠦\u001b[1G\u001b[0K\n",
            "up to date, audited 23 packages in 2s\n",
            "\u001b[1G\u001b[0K⠧\u001b[1G\u001b[0K\n",
            "\u001b[1G\u001b[0K⠧\u001b[1G\u001b[0K3 packages are looking for funding\n",
            "\u001b[1G\u001b[0K⠧\u001b[1G\u001b[0K  run `npm fund` for details\n",
            "\u001b[1G\u001b[0K⠧\u001b[1G\u001b[0K\n",
            "2 \u001b[33m\u001b[1mmoderate\u001b[22m\u001b[39m severity vulnerabilities\n",
            "\n",
            "To address all issues (including breaking changes), run:\n",
            "  npm audit fix --force\n",
            "\n",
            "Run `npm audit` for details.\n",
            "\u001b[1G\u001b[0K⠧\u001b[1G\u001b[0K"
          ]
        }
      ]
    },
    {
      "cell_type": "markdown",
      "source": [
        "## Correr streamlit en el fondo"
      ],
      "metadata": {
        "id": "kccYE2lkN20y"
      }
    },
    {
      "cell_type": "code",
      "source": [
        "!streamlit run /content/app.py &>/content/logs.txt &"
      ],
      "metadata": {
        "id": "Zv912rRAN0fs"
      },
      "execution_count": 100,
      "outputs": []
    },
    {
      "cell_type": "markdown",
      "source": [
        "## Expose the port 8501\n",
        "Then just click in the `url` showed.\n",
        "\n",
        "A `log.txt`file will be created."
      ],
      "metadata": {
        "id": "h_KW9juhOCuH"
      }
    },
    {
      "cell_type": "code",
      "source": [
        "!npx localtunnel --port 8501"
      ],
      "metadata": {
        "id": "XTGAizLhOIgC",
        "outputId": "846c075b-4dd6-4330-bd8d-bbee66d97c8f",
        "colab": {
          "base_uri": "https://localhost:8080/"
        }
      },
      "execution_count": 101,
      "outputs": [
        {
          "output_type": "stream",
          "name": "stdout",
          "text": [
            "\u001b[1G\u001b[0K⠙\u001b[1G\u001b[0Kyour url is: https://weak-results-speak.loca.lt\n",
            "^C\n"
          ]
        }
      ]
    },
    {
      "cell_type": "markdown",
      "metadata": {
        "id": "GVz-H__pOoxG"
      },
      "source": [
        "[![ko-fi](https://www.ko-fi.com/img/githubbutton_sm.svg)](https://ko-fi.com/Y8Y3VYYE)"
      ]
    }
  ]
}